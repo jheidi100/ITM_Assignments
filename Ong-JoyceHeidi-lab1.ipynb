{
 "cells": [
  {
   "cell_type": "markdown",
   "metadata": {},
   "source": [
    "193665 <br> \n",
    "Ong <br> \n",
    "2 BS ME "
   ]
  },
  {
   "cell_type": "code",
   "execution_count": 2,
   "metadata": {},
   "outputs": [
    {
     "name": "stdout",
     "output_type": "stream",
     "text": [
      "Enter the amount in US Dollars: 1\n",
      "1.0  US dollar(s) =  50.0 Philippine Pesos\n"
     ]
    }
   ],
   "source": [
    "def dollars_to_pesos(usd): \n",
    "    php = usd*50 \n",
    "    print(usd,\" US dollar(s) = \", php, \"Philippine Pesos\")\n",
    "\n",
    "usd = float(input(\"Enter the amount in US Dollars: \"))\n",
    "\n",
    "dollars_to_pesos(usd)"
   ]
  },
  {
   "cell_type": "code",
   "execution_count": 3,
   "metadata": {},
   "outputs": [
    {
     "name": "stdout",
     "output_type": "stream",
     "text": [
      "Enter first positive integer: 128\n",
      "Enter second positive integer:8\n",
      "136\n",
      "120\n",
      "1024\n",
      "16\n",
      "0\n"
     ]
    }
   ],
   "source": [
    "a = int(input(\"Enter first positive integer: \"))\n",
    "b = int(input(\"Enter second positive integer:\"))\n",
    "print (a + b)\n",
    "print (a - b)\n",
    "print (a*b)\n",
    "print (a//b) \n",
    "print (a%b)\n"
   ]
  },
  {
   "cell_type": "code",
   "execution_count": 1,
   "metadata": {},
   "outputs": [
    {
     "name": "stdout",
     "output_type": "stream",
     "text": [
      "Enter kg:100\n",
      "Enter m:2\n",
      "BMI:  25.0\n"
     ]
    }
   ],
   "source": [
    "#conversion function if input is in cm \n",
    "def convert_cm_to_m (cm): \n",
    "    m = cm / 100 \n",
    "    return m \n",
    "\n",
    "def compute_bmi(kg, m): \n",
    "    bmi = kg / m**2\n",
    "    print(\"BMI: \", bmi)\n",
    "    \n",
    "kg = float(input(\"Enter kg:\"))\n",
    "m = float(input(\"Enter m:\"))\n",
    "\n",
    "compute_bmi(kg, m)"
   ]
  },
  {
   "cell_type": "code",
   "execution_count": null,
   "metadata": {},
   "outputs": [],
   "source": []
  }
 ],
 "metadata": {
  "kernelspec": {
   "display_name": "Python 3",
   "language": "python",
   "name": "python3"
  },
  "language_info": {
   "codemirror_mode": {
    "name": "ipython",
    "version": 3
   },
   "file_extension": ".py",
   "mimetype": "text/x-python",
   "name": "python",
   "nbconvert_exporter": "python",
   "pygments_lexer": "ipython3",
   "version": "3.7.4"
  }
 },
 "nbformat": 4,
 "nbformat_minor": 2
}
