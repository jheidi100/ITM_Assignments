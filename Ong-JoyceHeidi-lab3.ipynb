{
 "cells": [
  {
   "cell_type": "markdown",
   "metadata": {},
   "source": [
    "193665 <br>\n",
    "Ong, Joyce Heidi J. <br>\n",
    "2 BS ME "
   ]
  },
  {
   "cell_type": "markdown",
   "metadata": {},
   "source": [
    "# Problem 1 "
   ]
  },
  {
   "cell_type": "code",
   "execution_count": 1,
   "metadata": {},
   "outputs": [],
   "source": [
    "social_graph = {\n",
    "    \"@bongolpoc\":{\"first_name\":\"Joselito\",\n",
    "                  \"last_name\":\"Olpoc\",\n",
    "                  \"following\":[\n",
    "                  ]\n",
    "    },\n",
    "    \"@joaquin\":  {\"first_name\":\"Joaquin\",\n",
    "                  \"last_name\":\"Gonzales\",\n",
    "                  \"following\":[\n",
    "                      \"@chums\",\"@jobenilagan\"\n",
    "                  ]\n",
    "    },\n",
    "    \"@chums\" : {\"first_name\":\"Matthew\",\n",
    "                \"last_name\":\"Uy\",\n",
    "                \"following\":[\n",
    "                    \"@bongolpoc\",\"@miketan\",\"@rudyang\",\"@joeilagan\"\n",
    "                ]\n",
    "    },\n",
    "    \"@jobenilagan\":{\"first_name\":\"Joben\",\n",
    "                   \"last_name\":\"Ilagan\",\n",
    "                   \"following\":[\n",
    "                    \"@eeebeee\",\"@joeilagan\",\"@chums\",\"@joaquin\"\n",
    "                   ]\n",
    "    },\n",
    "    \"@joeilagan\":{\"first_name\":\"Joe\",\n",
    "                  \"last_name\":\"Ilagan\",\n",
    "                  \"following\":[\n",
    "                    \"@eeebeee\",\"@jobenilagan\",\"@chums\"\n",
    "                  ]\n",
    "    },\n",
    "    \"@eeebeee\":  {\"first_name\":\"Elizabeth\",\n",
    "                  \"last_name\":\"Ilagan\",\n",
    "                  \"following\":[\n",
    "                    \"@jobenilagan\",\"@joeilagan\"\n",
    "                  ]\n",
    "    },\n",
    "}"
   ]
  },
  {
   "cell_type": "code",
   "execution_count": 2,
   "metadata": {},
   "outputs": [
    {
     "name": "stdout",
     "output_type": "stream",
     "text": [
      "None\n"
     ]
    }
   ],
   "source": [
    "def relationship_status(from_member, to_member):        \n",
    "    is_followedby = from_member in social_graph[to_member][\"following\"]\n",
    "    is_follows = to_member in social_graph[from_member][\"following\"]\n",
    "        \n",
    "    if is_followedby and is_follows: \n",
    "        return \"friends\"\n",
    "    elif is_followedby and not is_follows: \n",
    "        return \"followed by\"\n",
    "    elif is_follows and not is_followedby: \n",
    "        return \"follows\"\n",
    "    \n",
    "print(relationship_status(\"@bongolpoc\", \"@jobenilagan\"))"
   ]
  },
  {
   "cell_type": "markdown",
   "metadata": {},
   "source": [
    "# Problem 2\n",
    "\n"
   ]
  },
  {
   "cell_type": "code",
   "execution_count": 3,
   "metadata": {},
   "outputs": [],
   "source": [
    "board1 = [\n",
    "['X','X','O'],\n",
    "['O','X','O'],\n",
    "['O','','X'],\n",
    "]\n",
    "\n",
    "board2 = [\n",
    "['X','X','O'],\n",
    "['O','X','O'],\n",
    "['','O','X'],\n",
    "]\n",
    "\n",
    "board3 = [\n",
    "['O','X','O'],\n",
    "['','O','X'],\n",
    "['X','X','O'],\n",
    "]\n",
    "\n",
    "board4 = [\n",
    "['X','X','X'],\n",
    "['O','X','O'],\n",
    "['O','','O'],\n",
    "]\n",
    "\n",
    "board5 = [\n",
    "['X','X','O'],\n",
    "['O','X','O'],\n",
    "['X','','O'],\n",
    "]\n",
    "\n",
    "board6 = [\n",
    "['X','X','O'],\n",
    "['O','X','O'],\n",
    "['X','',''],\n",
    "]"
   ]
  },
  {
   "cell_type": "code",
   "execution_count": 4,
   "metadata": {},
   "outputs": [
    {
     "name": "stdout",
     "output_type": "stream",
     "text": [
      "None\n"
     ]
    }
   ],
   "source": [
    "def get_winner(board): \n",
    "    \n",
    "    #rows\n",
    "    for row in board: \n",
    "        if len(set(row)) == 1 and (\"\" not in set(row)): return row[0]\n",
    "        \n",
    "    #column\n",
    "    for j in range(3): \n",
    "        column_list = [board[i][j] for i in range(3) ]\n",
    "        if len(set(column_list)) == 1 and (\"\" not in set(column_list)): \n",
    "            return column_list[0]\n",
    "        \n",
    "    #diagonal /\n",
    "    diagonal_list = [board[i][2-i] for i in range(3)]\n",
    "    if len(set(diagonal_list)) == 1 and (\"\" not in set(diagonal_list)): \n",
    "        return diagonal_list[0]\n",
    "    \n",
    "    #diagonal \\\n",
    "    diagonal_list = [board[i][i] for i in range(3)]\n",
    "    if len(set(diagonal_list)) == 1 and (\"\" not in set(diagonal_list)): \n",
    "        return diagonal_list[0]\n",
    "    \n",
    "print(get_winner(board6))"
   ]
  },
  {
   "cell_type": "markdown",
   "metadata": {},
   "source": [
    "# Problem 3\n"
   ]
  },
  {
   "cell_type": "code",
   "execution_count": 5,
   "metadata": {},
   "outputs": [],
   "source": [
    "legs = {\n",
    "     (\"upd\",\"admu\"):{\n",
    "         \"travel_time_mins\":10\n",
    "     },\n",
    "     (\"admu\",\"dlsu\"):{\n",
    "         \"travel_time_mins\":35\n",
    "     },\n",
    "     (\"dlsu\",\"upd\"):{\n",
    "         \"travel_time_mins\":55\n",
    "     }\n",
    "}\n",
    "\n",
    "\n"
   ]
  },
  {
   "cell_type": "code",
   "execution_count": 6,
   "metadata": {},
   "outputs": [
    {
     "name": "stdout",
     "output_type": "stream",
     "text": [
      "Enter source: dlsu\n",
      "Enter destination: admu\n",
      "ETA: 65\n"
     ]
    }
   ],
   "source": [
    "def eta(source, destination):\n",
    "    eta = 0\n",
    "    next_={\"upd\":\"admu\", \"admu\":\"dlsu\", \"dlsu\":\"upd\"}\n",
    "\n",
    "    while next_[source] != next_[destination]: \n",
    "        eta += legs[(source, next_[source])][\"travel_time_mins\"]\n",
    "        source = next_[source]\n",
    "        \n",
    "    print(f\"ETA: {eta}\")\n",
    "\n",
    "source = input(\"Enter source: \")\n",
    "destination = input(\"Enter destination: \")\n",
    "\n",
    "eta(source, destination)\n",
    "    \n",
    "    "
   ]
  }
 ],
 "metadata": {
  "kernelspec": {
   "display_name": "Python 3",
   "language": "python",
   "name": "python3"
  },
  "language_info": {
   "codemirror_mode": {
    "name": "ipython",
    "version": 3
   },
   "file_extension": ".py",
   "mimetype": "text/x-python",
   "name": "python",
   "nbconvert_exporter": "python",
   "pygments_lexer": "ipython3",
   "version": "3.7.4"
  }
 },
 "nbformat": 4,
 "nbformat_minor": 2
}
