{
 "cells": [
  {
   "cell_type": "code",
   "execution_count": 4,
   "metadata": {},
   "outputs": [
    {
     "name": "stdout",
     "output_type": "stream",
     "text": [
      "Enter number of rows: 5\n",
      "<table>\n",
      "<tr class=\" lightyellowrow \"><td> 1 </td><td> 1 </td></tr>\n",
      "<tr class=\" whiterow \"><td> 2 </td><td> 4 </td></tr>\n",
      "<tr class=\" lightyellowrow \"><td> 3 </td><td> 9 </td></tr>\n",
      "<tr class=\" whiterow \"><td> 4 </td><td> 16 </td></tr>\n",
      "<tr class=\" lightyellowrow \"><td> 5 </td><td> 25 </td></tr>\n",
      "</table\n",
      "<tr class=\" lightyellowrow \"><td> 5 </td><td> 25 </td></tr>\n"
     ]
    }
   ],
   "source": [
    "def row_printer(row_num): \n",
    "    if row_num%2 != 0: \n",
    "        tr_class = \"lightyellowrow\"\n",
    "    else: \n",
    "        tr_class=\"whiterow\"\n",
    "    print('<tr class=\"',tr_class,'\"><td>',row_num,'</td><td>',row_num**2,'</td></tr>')\n",
    "rows = int(input(\"Enter number of rows: \"))\n",
    "print(\"<table>\")\n",
    "for i in range(1,rows+1): \n",
    "    row_printer(i)\n",
    "print(\"</table\")\n",
    "    \n",
    "    \n"
   ]
  },
  {
   "cell_type": "code",
   "execution_count": 9,
   "metadata": {},
   "outputs": [
    {
     "name": "stdout",
     "output_type": "stream",
     "text": [
      "Day: 31\n",
      "Month: 4\n",
      "Year: 2008\n",
      "Date is not valid\n"
     ]
    }
   ],
   "source": [
    "import calendar\n",
    "list_31 = [1,3,5,7,8,10,12]\n",
    "list_30 = [4,6,9,11]\n",
    "\n",
    "def convert_ordinal(num): \n",
    "    suffix = [\"th\", \"st\", \"nd\",\"rd\",\"th\"][min(num%10,4)]\n",
    "    if num >= 11 and num <= 13: \n",
    "        suffix = \"th\"\n",
    "    return str(num) + suffix\n",
    "    \n",
    "day = int(input(\"Day: \"))\n",
    "month = int(input(\"Month: \"))\n",
    "year = int(input(\"Year: \"))\n",
    "if month in list_31 and (day<1 or day>31): \n",
    "    print(\"Date is not valid\")\n",
    "elif month in list_30 and (day<1 or day>30): \n",
    "    print(\"Date is not valid\")\n",
    "elif month == 2: \n",
    "    if (year%4!=0 or (year%100==0 and year&400!=0)) and (day<1 or day>28): \n",
    "        print(\"Date is not valid\")\n",
    "    elif (day<1 or day>29): \n",
    "        print(\"Date is not valid\")\n",
    "else: \n",
    "    print(\"It is the \", convert_ordinal(day), \" day of the month of \", calendar.month_name[month], \"of the year\", str(year))\n",
    "    \n"
   ]
  },
  {
   "cell_type": "code",
   "execution_count": 12,
   "metadata": {},
   "outputs": [
    {
     "data": {
      "text/plain": [
       "False"
      ]
     },
     "execution_count": 12,
     "metadata": {},
     "output_type": "execute_result"
    }
   ],
   "source": [
    "def obedient(num): \n",
    "    n1 = 1\n",
    "    n2 = 2\n",
    "    n3 = 3 \n",
    "    sum_of_n = 0 \n",
    "    while sum_of_n < num: \n",
    "        obed = False\n",
    "        sum_of_n = n1 + n2 + n3\n",
    "        n1 = n2 \n",
    "        n2 = n3 \n",
    "        n3 += 1\n",
    "        if sum_of_n == num: \n",
    "            obed = True \n",
    "    return obed\n",
    "\n",
    "\n",
    "\n",
    "    "
   ]
  },
  {
   "cell_type": "code",
   "execution_count": 13,
   "metadata": {},
   "outputs": [
    {
     "name": "stdout",
     "output_type": "stream",
     "text": [
      "1\t2\t3\t4\t5\t6\t7\t8\n",
      "2\t4\t6\t8\t10\t12\t14\t16\n",
      "3\t6\t9\t12\t15\t18\t21\t24\n",
      "4\t8\t12\t16\t20\t24\t28\t32\n",
      "5\t10\t15\t20\t25\t30\t35\t40\n",
      "6\t12\t18\t24\t30\t36\t42\t48\n",
      "7\t14\t21\t28\t35\t42\t49\t56\n",
      "8\t16\t24\t32\t40\t48\t56\t64\n"
     ]
    }
   ],
   "source": [
    "def list_multiplier(num, list1):\n",
    "    list2 = [k*num for k in list1]\n",
    "    return list2\n",
    "    \n",
    "def multtable(num): \n",
    "    first_list=[]\n",
    "    for i in range(1,num+1): \n",
    "        first_list.append(i)\n",
    "    print(\"\\t\".join([str(m) for m in first_list]))\n",
    "    for j in range(2, num+1): \n",
    "        print(\"\\t\".join([str(n) for n in list_multiplier(j,first_list)]))\n",
    "\n",
    "  \n",
    "    "
   ]
  },
  {
   "cell_type": "code",
   "execution_count": 3,
   "metadata": {},
   "outputs": [
    {
     "name": "stdout",
     "output_type": "stream",
     "text": [
      "Do you prefer (a) the mountains, (b) the city, or (c) the beach?a\n",
      "Do you prefer (a) yoghurt, (b) ice cream, or (c) gelato?a\n",
      "Do you prefer (a) reading, (b) singing, or (c) writing?a\n",
      "Do you prefer (a) sweet, (b) salty, or (c) spicy food?D\n",
      "Sorry, you inputted a wrong letter. Please start again\n",
      "Do you prefer (a) the mountains, (b) the city, or (c) the beach?a\n",
      "Do you prefer (a) yoghurt, (b) ice cream, or (c) gelato?a\n",
      "Do you prefer (a) reading, (b) singing, or (c) writing?a\n",
      "Do you prefer (a) sweet, (b) salty, or (c) spicy food?a\n",
      "Do you prefer (a) cats, (b) dogs, or (c) fish?a\n",
      "Your element is earth\n"
     ]
    }
   ],
   "source": [
    "list_of_qs=[\"Do you prefer (a) the mountains, (b) the city, or (c) the beach?\",\n",
    "            \"Do you prefer (a) yoghurt, (b) ice cream, or (c) gelato?\",\n",
    "            \"Do you prefer (a) reading, (b) singing, or (c) writing?\",\n",
    "            \"Do you prefer (a) sweet, (b) salty, or (c) spicy food?\",\n",
    "            \"Do you prefer (a) cats, (b) dogs, or (c) fish?\"]\n",
    "\n",
    "def ans_counter(q,ans): \n",
    "    f_counter = 0\n",
    "    w_counter = 0\n",
    "    e_counter = 0\n",
    "    if q == 1: \n",
    "        if ans == \"a\": f_counter+=1\n",
    "        if ans == \"b\": e_counter+=1\n",
    "        if ans == \"c\": w_counter+=1\n",
    "    if q == 2: \n",
    "        if ans == \"a\": e_counter+=1\n",
    "        if ans == \"b\": w_counter+=1\n",
    "        if ans == \"c\": f_counter+=1\n",
    "    if q == 3: \n",
    "        if ans == \"a\": w_counter+=1\n",
    "        if ans == \"b\": f_counter+=1\n",
    "        if ans == \"c\": e_counter+=1\n",
    "    if q == 4: \n",
    "        if ans == \"a\": e_counter+=1\n",
    "        if ans == \"b\": w_counter+=1\n",
    "        if ans == \"c\": f_counter+=1\n",
    "    if q == 5: \n",
    "        if ans == \"a\": e_counter+=1\n",
    "        if ans == \"b\": f_counter+=1\n",
    "        if ans == \"c\": w_counter+=1\n",
    "    return f_counter, w_counter, e_counter\n",
    "            \n",
    "        \n",
    "    \n",
    "\n",
    "\n",
    "f_counter = 0\n",
    "w_counter = 0\n",
    "e_counter = 0\n",
    "i = 1\n",
    "while i<=5:\n",
    "    ans = input(list_of_qs[i-1]) \n",
    "    if ans not in [\"a\",\"b\",\"c\"]: \n",
    "        print(\"Sorry, you inputted a wrong letter. Please start again\")\n",
    "        i = 1\n",
    "        continue\n",
    "    ans_counter(i, ans)\n",
    "    f_counter += int(ans_counter(i,ans)[0])\n",
    "    w_counter += int(ans_counter(i,ans)[1])\n",
    "    e_counter += int(ans_counter(i,ans)[2])\n",
    "    i += 1\n",
    "\n",
    "summary=[f_counter,w_counter, e_counter]\n",
    "\n",
    "if sum([j == max(summary) for j in summary])!= 1: \n",
    "    if summary[0] == summary[2]: \n",
    "        print(\"Your element is earth\")\n",
    "    elif summary[0] == summary[1]: \n",
    "        print(\"Your element is fire\")\n",
    "    elif summary[1] == summary[2]: \n",
    "        print(\"Your element is water\")    \n",
    "else: \n",
    "    max_value = summary.index(max(summary))\n",
    "    if max_value == 0: \n",
    "        print(\"Your element is fire\")\n",
    "    elif max_value == 1: \n",
    "        print(\"Your element is water\")\n",
    "    elif max_value == 2: \n",
    "        print(\"Your element is earth\")\n",
    "\n",
    "\n",
    "\n",
    "\n",
    "               \n",
    "    "
   ]
  }
 ],
 "metadata": {
  "kernelspec": {
   "display_name": "Python 3",
   "language": "python",
   "name": "python3"
  },
  "language_info": {
   "codemirror_mode": {
    "name": "ipython",
    "version": 3
   },
   "file_extension": ".py",
   "mimetype": "text/x-python",
   "name": "python",
   "nbconvert_exporter": "python",
   "pygments_lexer": "ipython3",
   "version": "3.7.4"
  }
 },
 "nbformat": 4,
 "nbformat_minor": 2
}
